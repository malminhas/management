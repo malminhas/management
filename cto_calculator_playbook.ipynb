{
 "cells": [
  {
   "cell_type": "markdown",
   "id": "de03ad66-a3c5-46e3-9a5d-085f0e1ae340",
   "metadata": {},
   "source": [
    "# CTO Calculator"
   ]
  },
  {
   "cell_type": "markdown",
   "id": "55d577ff-54ac-44b8-b136-67114a05e6a8",
   "metadata": {},
   "source": [
    "<p>\n",
    "Mal Minhas, v0.1\n",
    "02.07.24\n",
    "</p>"
   ]
  },
  {
   "cell_type": "markdown",
   "id": "8d2c5e9c-db54-478e-86ae-3f31f9e487d2",
   "metadata": {},
   "source": [
    "### Introduction"
   ]
  },
  {
   "attachments": {},
   "cell_type": "markdown",
   "id": "361be59a-e1cc-453f-933d-9d92d22d271d",
   "metadata": {},
   "source": [
    "The CTO rate calculator here has been built from the article by Etienne de Bruin [here](https://7ctos.substack.com/p/the-ctos-consulting-rate-calculator).  From that article he outlines a number of parameters as follows:"
   ]
  },
  {
   "cell_type": "markdown",
   "id": "55f3cb21-d33a-4a0a-b622-8b795ffec938",
   "metadata": {},
   "source": [
    "<img src=\"calculator.png\" alt=\"calculator\" style=\"width: 600px;\"/>"
   ]
  },
  {
   "cell_type": "markdown",
   "id": "b3a6edea-8e29-4a28-b784-7b29a739dac9",
   "metadata": {},
   "source": [
    "Using his article, we can sketch out a couple of functions as follows.  The CTO level calculator is taken from the guidance [here](https://ctolevels.notion.site/CTO-Levels-6b06e6afe01844edaedfd396987d559f):"
   ]
  },
  {
   "cell_type": "code",
   "execution_count": 1,
   "id": "8b921307-ee2a-4681-ab4e-7ebdb9e0bd13",
   "metadata": {},
   "outputs": [],
   "source": [
    "def calculateLevel(engineering_team_size):\n",
    "    if engineering_team_size in [1,2,3]:\n",
    "        return engineering_team_size - 1\n",
    "    elif engineering_team_size <=10:\n",
    "        return 3\n",
    "    elif engineering_team_size <=20:\n",
    "        return 3\n",
    "    elif engineering_team_size <=20:\n",
    "        return 4\n",
    "    elif engineering_team_size <=40:\n",
    "        return 5\n",
    "    elif engineering_team_size <=60:\n",
    "        return 6\n",
    "    elif engineering_team_size <=100:\n",
    "        return 7\n",
    "    elif engineering_team_size <=120:\n",
    "        return 8\n",
    "    elif engineering_team_size <=200:\n",
    "        return 9\n",
    "    elif engineering_team_size > 200:\n",
    "        return 10\n",
    "    \n",
    "def calculateRetainer(c_base_rate, annual_revenue, engineering_budget, engineering_team_size, hours_per_week, verbose=False):\n",
    "    eng_efficiency_ratio = annual_revenue/engineering_budget\n",
    "    level = calculateLevel(engineering_team_size)\n",
    "    difficulty_rate = eng_efficiency_ratio * level\n",
    "    complexity_bonus = level * 1000\n",
    "    hours = round((hours_per_week * 52)/12, 0)\n",
    "    if (verbose):\n",
    "        print(f\"level (team size)={level} ({engineering_team_size})\")\n",
    "        print(f\"eng_efficiency_ratio={eng_efficiency_ratio}\")\n",
    "        print(f\"complexity_bonus={complexity_bonus}\")\n",
    "        print(f\"difficulty_level={difficulty_rate}\")\n",
    "        print(f\"hours={hours}\")\n",
    "    retainer = ((c_base_rate + difficulty_rate) * hours) + complexity_bonus    \n",
    "    return round(retainer,0)"
   ]
  },
  {
   "cell_type": "markdown",
   "id": "627badea-fe2b-481e-820a-3c8fb5715f93",
   "metadata": {},
   "source": [
    "Example company A which has annual revenue of £30m and an Engineering budget of £3m which constitutes an R&D intensity of 10% with a base of 25 engineers yields the following calculation for a monthly retainer:"
   ]
  },
  {
   "cell_type": "code",
   "execution_count": 2,
   "id": "7431112b-1bba-484b-b79a-42b5a8f9327f",
   "metadata": {},
   "outputs": [
    {
     "data": {
      "text/plain": [
       "14890.0"
      ]
     },
     "execution_count": 2,
     "metadata": {},
     "output_type": "execute_result"
    }
   ],
   "source": [
    "c_base_rate = 180\n",
    "annual_revenue = 30_000_000  \n",
    "engineering_team_size = 25\n",
    "engineering_budget = 3_000_000\n",
    "hours_per_week = 10\n",
    "\n",
    "calculateRetainer(c_base_rate, annual_revenue, engineering_budget, engineering_team_size, hours_per_week)"
   ]
  },
  {
   "cell_type": "markdown",
   "id": "612350d7-e187-4711-b8bd-171a8de05d62",
   "metadata": {},
   "source": [
    "Example company B which has an annual revenue of around £100m and an Engineering budget of £20m (R&D intensity of 20% with a base of 120 engineers yields the following monthly retainer:"
   ]
  },
  {
   "cell_type": "code",
   "execution_count": 3,
   "id": "cc83fb77-3eee-4c64-868a-170735aeb0cd",
   "metadata": {},
   "outputs": [
    {
     "data": {
      "text/plain": [
       "17460.0"
      ]
     },
     "execution_count": 3,
     "metadata": {},
     "output_type": "execute_result"
    }
   ],
   "source": [
    "c_base_rate = 180\n",
    "annual_revenue = 100_000_000  \n",
    "engineering_team_size = 120\n",
    "engineering_budget = 20_000_000\n",
    "hours_per_week = 10\n",
    "\n",
    "calculateRetainer(c_base_rate, annual_revenue, engineering_budget, engineering_team_size, hours_per_week)"
   ]
  }
 ],
 "metadata": {
  "kernelspec": {
   "display_name": "Python 3 (ipykernel)",
   "language": "python",
   "name": "python3"
  },
  "language_info": {
   "codemirror_mode": {
    "name": "ipython",
    "version": 3
   },
   "file_extension": ".py",
   "mimetype": "text/x-python",
   "name": "python",
   "nbconvert_exporter": "python",
   "pygments_lexer": "ipython3",
   "version": "3.12.4"
  }
 },
 "nbformat": 4,
 "nbformat_minor": 5
}
